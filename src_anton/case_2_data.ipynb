{
 "cells": [
  {
   "cell_type": "markdown",
   "metadata": {},
   "source": [
    "# Case 2 - Exploration"
   ]
  },
  {
   "cell_type": "markdown",
   "metadata": {},
   "source": [
    "## 1. Importing Libraries"
   ]
  },
  {
   "cell_type": "code",
   "execution_count": 92,
   "metadata": {},
   "outputs": [],
   "source": [
    "import numpy as np\n",
    "import pandas as pd\n",
    "\n",
    "# Imputers\n",
    "from sklearn.impute import KNNImputer, SimpleImputer\n",
    "\n",
    "# Standardization scalers\n",
    "from sklearn.preprocessing import StandardScaler\n",
    "\n",
    "# Splitting data\n",
    "from sklearn.model_selection import train_test_split\n",
    "\n",
    "# Set seed for reproducibility\n",
    "import random\n",
    "random.seed(42)"
   ]
  },
  {
   "cell_type": "markdown",
   "metadata": {},
   "source": [
    "## 2. Loading Data"
   ]
  },
  {
   "cell_type": "markdown",
   "metadata": {},
   "source": [
    "A 312x67 datamatrix. Orginally 312x68 in the csv but the first column was the index column"
   ]
  },
  {
   "cell_type": "code",
   "execution_count": null,
   "metadata": {},
   "outputs": [
    {
     "name": "stdout",
     "output_type": "stream",
     "text": [
      "The shape of the data\n",
      "(312, 67)\n"
     ]
    }
   ],
   "source": [
    "# Path to the data files\n",
    "data_path = '../../case2/HR_data.csv'\n",
    "\n",
    "\n",
    "# Create a pandas dataframe and use the first row as the column names\n",
    "data_pd = pd.read_csv(data_path, sep=',', header=0)\n",
    "#remove the first column and reorder so the non numeric columns are the first\n",
    "data_pd = data_pd.iloc[:, 1:]\n",
    "\n",
    "\n",
    "#Moving identufyer columns up\n",
    "id_columns = ['Round', 'Phase', 'Individual','Puzzler', 'Cohort']\n",
    "numeric_columns = [col for col in data_pd.columns if col not in id_columns]\n",
    "data_pd = data_pd[id_columns + numeric_columns]\n",
    "# \n",
    "# Print the shape of the data in the pandas dataframe\n",
    "print(\"The shape of the data\")\n",
    "print(data_pd.shape)\n"
   ]
  },
  {
   "cell_type": "markdown",
   "metadata": {},
   "source": [
    "## 3. Data cleaning"
   ]
  },
  {
   "cell_type": "markdown",
   "metadata": {},
   "source": [
    "### Missing values:"
   ]
  },
  {
   "cell_type": "code",
   "execution_count": 94,
   "metadata": {},
   "outputs": [
    {
     "name": "stdout",
     "output_type": "stream",
     "text": [
      "EDA_TD_P_RT     1\n",
      "EDA_TD_P_ReT    1\n",
      "inspired        2\n",
      "attentive       1\n",
      "afraid          1\n",
      "active          1\n",
      "determined      2\n",
      "dtype: int64\n"
     ]
    }
   ],
   "source": [
    "# Shows count of NaNs per column\n",
    "na_summary = data_pd.isna().sum()\n",
    "# Display only columns with at least 1 NaN (optional)\n",
    "na_summary = na_summary[na_summary > 0]\n",
    "print(na_summary)\n"
   ]
  },
  {
   "cell_type": "markdown",
   "metadata": {},
   "source": [
    "- Filling missing values in questionaries columns by impuding with the most common value for individuals in that phase\n",
    "- Filling missing values in the biometric data columns with mean"
   ]
  },
  {
   "cell_type": "code",
   "execution_count": 95,
   "metadata": {},
   "outputs": [],
   "source": [
    "q_cols = ['Frustrated', 'upset', 'hostile',\n",
    "       'alert', 'ashamed', 'inspired', 'nervous', 'attentive', 'afraid',\n",
    "       'active', 'determined']\n",
    "#Filling missing values in questionaire columns \n",
    "data_pd[q_cols] = data_pd.groupby('Phase')[q_cols].transform(lambda x: x.fillna(x.mode().iloc[0]))\n",
    "\n",
    "#Filling the missin\n",
    "data_pd.fillna({col: data_pd[col].mean() for col in ['EDA_TD_P_RT', 'EDA_TD_P_ReT']}, inplace=True)\n"
   ]
  }
 ],
 "metadata": {
  "kernelspec": {
   "display_name": "base",
   "language": "python",
   "name": "python3"
  },
  "language_info": {
   "codemirror_mode": {
    "name": "ipython",
    "version": 3
   },
   "file_extension": ".py",
   "mimetype": "text/x-python",
   "name": "python",
   "nbconvert_exporter": "python",
   "pygments_lexer": "ipython3",
   "version": "3.12.9"
  }
 },
 "nbformat": 4,
 "nbformat_minor": 2
}
